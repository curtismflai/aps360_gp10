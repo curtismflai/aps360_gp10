{
 "cells": [
  {
   "cell_type": "markdown",
   "metadata": {},
   "source": [
    "# Assignment 4\n",
    "\n",
    "**Deadline**: February 17, 9pm\n",
    "\n",
    "**Late Penalty**: See Syllabus\n",
    "\n",
    "**TA**: Hojjat Salehinejad\n",
    "\n",
    "In this assignment, you will build and train an autoencoder for imputation of missing data. In the process, you will:\n",
    "\n",
    "1. Clean and process continuous and categorical data for machine learning.\n",
    "2. Understand and implement denoising autoencoders.\n",
    "3. Tuning the hyperparameter setting of an autoencoder.\n",
    "\n",
    "### What to submit\n",
    "\n",
    "Submit a PDF file containing all your code and outputs. Do not submit any other files produced by your code.\n",
    "\n",
    "Completing this assignment using Jupyter Notebook is recommended (though not necessarily for all subsequent assignments). If you are using Jupyter Notebook, you can export a PDF file using the menu option File -> Download As -> PDF via LaTeX (pdf)"
   ]
  },
  {
   "cell_type": "code",
   "execution_count": 1,
   "metadata": {},
   "outputs": [],
   "source": [
    "import csv\n",
    "import numpy as np\n",
    "import random\n",
    "import torch\n",
    "import torch.utils.data\n",
    "from torch.utils.data.sampler import SubsetRandomSampler\n",
    "import time\n",
    "import sys\n",
    "import matplotlib.pyplot as plt"
   ]
  },
  {
   "cell_type": "code",
   "execution_count": 2,
   "metadata": {},
   "outputs": [
    {
     "name": "stdout",
     "output_type": "stream",
     "text": [
      "cuda:0\n"
     ]
    }
   ],
   "source": [
    "device = torch.device(\"cuda\" if torch.cuda.is_available() else \"cpu\")\n",
    "print(device)"
   ]
  },
  {
   "cell_type": "markdown",
   "metadata": {},
   "source": [
    "## Part 0\n",
    "\n",
    "We will be using a package called `pandas` for this assignment. \n",
    "Installation instructions for `pandas` is available here: \n",
    "https://pandas.pydata.org/pandas-docs/stable/install.html\n",
    "\n",
    "If you cannot get `pandas` installed, you may port the `pandas` code\n",
    "we provided into `numpy` code."
   ]
  },
  {
   "cell_type": "code",
   "execution_count": 3,
   "metadata": {},
   "outputs": [],
   "source": [
    "import pandas as pd"
   ]
  },
  {
   "cell_type": "markdown",
   "metadata": {},
   "source": [
    "# Part 1. Data Cleaning [12 pt]\n",
    "\n",
    "The data set we will be using for this assignment is the \n",
    "Adult Data Set provided by UCI Machine Learning Repository [1] available \n",
    "at https://archive.ics.uci.edu/ml/datasets/adult.\n",
    "\n",
    "Download the file `adult.data` from the website.\n",
    "\n",
    "The data set contains census record files of adults, including their\n",
    "age, type of work they do, martial status, etc. We will build a denoising\n",
    "autoencoder on this dataset to impute (or \"fill in\") missing values\n",
    "in the dataset.\n",
    "\n",
    "[1] Dua, D. and Karra Taniskidou, E. (2017). UCI Machine Learning Repository [http://archive.ics.uci.edu/ml]. Irvine, CA: University of California, School of Information and Computer Science."
   ]
  },
  {
   "cell_type": "markdown",
   "metadata": {},
   "source": [
    "### Part (a) Loading the Data [1 pt]\n",
    "\n",
    "Use the function `pd.read_csv` to load the `adult.data` into a pandas\n",
    "dataframe called `df`. Make sure that\n",
    "the `adult.data` file is in the same folder as your notebook or python code.\n",
    "Report the number of rows (records) in your data frame.\n",
    "\n",
    "Note that the data file does **not** have an index column. The headers\n",
    "of the file are given to you below. \n",
    "\n",
    "Hint: You will need to read a bit about the pandas documentation \n",
    "to do this problem https://pandas.pydata.org/pandas-docs/stable/reference/api/pandas.read_csv.html"
   ]
  },
  {
   "cell_type": "code",
   "execution_count": 4,
   "metadata": {},
   "outputs": [],
   "source": [
    "header = ['age', 'work', 'fnlwgt', 'edu', 'yredu', 'marriage', 'occupation',\n",
    " 'relationship', 'race', 'sex', 'capgain', 'caploss', 'workhr', 'country']\n",
    "df = pd.read_csv(\"adult.data\", names=header, index_col=False)"
   ]
  },
  {
   "cell_type": "code",
   "execution_count": 5,
   "metadata": {},
   "outputs": [
    {
     "name": "stdout",
     "output_type": "stream",
     "text": [
      "Number of records: 32561\n"
     ]
    }
   ],
   "source": [
    "print(\"Number of records: {}\".format(df.shape[0]))"
   ]
  },
  {
   "cell_type": "markdown",
   "metadata": {},
   "source": [
    "### Part (b) Continuous Features [1 pt]\n",
    "\n",
    "For each of the columns [\"age\", \"yredu\", \"capgain\", \"caploss\", \"workhr\"], find the minimum, maximum, and average value across the dataset.\n",
    "\n",
    "Like numpy arrays and torch tensors, \n",
    "pandas data frames can be sliced. For example, we can\n",
    "display the first 5 rows of the data frame (5 records) below:"
   ]
  },
  {
   "cell_type": "code",
   "execution_count": 6,
   "metadata": {
    "scrolled": false
   },
   "outputs": [
    {
     "data": {
      "text/html": [
       "<div>\n",
       "<style scoped>\n",
       "    .dataframe tbody tr th:only-of-type {\n",
       "        vertical-align: middle;\n",
       "    }\n",
       "\n",
       "    .dataframe tbody tr th {\n",
       "        vertical-align: top;\n",
       "    }\n",
       "\n",
       "    .dataframe thead th {\n",
       "        text-align: right;\n",
       "    }\n",
       "</style>\n",
       "<table border=\"1\" class=\"dataframe\">\n",
       "  <thead>\n",
       "    <tr style=\"text-align: right;\">\n",
       "      <th></th>\n",
       "      <th>age</th>\n",
       "      <th>work</th>\n",
       "      <th>fnlwgt</th>\n",
       "      <th>edu</th>\n",
       "      <th>yredu</th>\n",
       "      <th>marriage</th>\n",
       "      <th>occupation</th>\n",
       "      <th>relationship</th>\n",
       "      <th>race</th>\n",
       "      <th>sex</th>\n",
       "      <th>capgain</th>\n",
       "      <th>caploss</th>\n",
       "      <th>workhr</th>\n",
       "      <th>country</th>\n",
       "    </tr>\n",
       "  </thead>\n",
       "  <tbody>\n",
       "    <tr>\n",
       "      <th>0</th>\n",
       "      <td>39</td>\n",
       "      <td>State-gov</td>\n",
       "      <td>77516</td>\n",
       "      <td>Bachelors</td>\n",
       "      <td>13</td>\n",
       "      <td>Never-married</td>\n",
       "      <td>Adm-clerical</td>\n",
       "      <td>Not-in-family</td>\n",
       "      <td>White</td>\n",
       "      <td>Male</td>\n",
       "      <td>2174</td>\n",
       "      <td>0</td>\n",
       "      <td>40</td>\n",
       "      <td>United-States</td>\n",
       "    </tr>\n",
       "    <tr>\n",
       "      <th>1</th>\n",
       "      <td>50</td>\n",
       "      <td>Self-emp-not-inc</td>\n",
       "      <td>83311</td>\n",
       "      <td>Bachelors</td>\n",
       "      <td>13</td>\n",
       "      <td>Married-civ-spouse</td>\n",
       "      <td>Exec-managerial</td>\n",
       "      <td>Husband</td>\n",
       "      <td>White</td>\n",
       "      <td>Male</td>\n",
       "      <td>0</td>\n",
       "      <td>0</td>\n",
       "      <td>13</td>\n",
       "      <td>United-States</td>\n",
       "    </tr>\n",
       "    <tr>\n",
       "      <th>2</th>\n",
       "      <td>38</td>\n",
       "      <td>Private</td>\n",
       "      <td>215646</td>\n",
       "      <td>HS-grad</td>\n",
       "      <td>9</td>\n",
       "      <td>Divorced</td>\n",
       "      <td>Handlers-cleaners</td>\n",
       "      <td>Not-in-family</td>\n",
       "      <td>White</td>\n",
       "      <td>Male</td>\n",
       "      <td>0</td>\n",
       "      <td>0</td>\n",
       "      <td>40</td>\n",
       "      <td>United-States</td>\n",
       "    </tr>\n",
       "    <tr>\n",
       "      <th>3</th>\n",
       "      <td>53</td>\n",
       "      <td>Private</td>\n",
       "      <td>234721</td>\n",
       "      <td>11th</td>\n",
       "      <td>7</td>\n",
       "      <td>Married-civ-spouse</td>\n",
       "      <td>Handlers-cleaners</td>\n",
       "      <td>Husband</td>\n",
       "      <td>Black</td>\n",
       "      <td>Male</td>\n",
       "      <td>0</td>\n",
       "      <td>0</td>\n",
       "      <td>40</td>\n",
       "      <td>United-States</td>\n",
       "    </tr>\n",
       "    <tr>\n",
       "      <th>4</th>\n",
       "      <td>28</td>\n",
       "      <td>Private</td>\n",
       "      <td>338409</td>\n",
       "      <td>Bachelors</td>\n",
       "      <td>13</td>\n",
       "      <td>Married-civ-spouse</td>\n",
       "      <td>Prof-specialty</td>\n",
       "      <td>Wife</td>\n",
       "      <td>Black</td>\n",
       "      <td>Female</td>\n",
       "      <td>0</td>\n",
       "      <td>0</td>\n",
       "      <td>40</td>\n",
       "      <td>Cuba</td>\n",
       "    </tr>\n",
       "  </tbody>\n",
       "</table>\n",
       "</div>"
      ],
      "text/plain": [
       "   age               work  fnlwgt         edu  yredu             marriage  \\\n",
       "0   39          State-gov   77516   Bachelors     13        Never-married   \n",
       "1   50   Self-emp-not-inc   83311   Bachelors     13   Married-civ-spouse   \n",
       "2   38            Private  215646     HS-grad      9             Divorced   \n",
       "3   53            Private  234721        11th      7   Married-civ-spouse   \n",
       "4   28            Private  338409   Bachelors     13   Married-civ-spouse   \n",
       "\n",
       "           occupation    relationship    race      sex  capgain  caploss  \\\n",
       "0        Adm-clerical   Not-in-family   White     Male     2174        0   \n",
       "1     Exec-managerial         Husband   White     Male        0        0   \n",
       "2   Handlers-cleaners   Not-in-family   White     Male        0        0   \n",
       "3   Handlers-cleaners         Husband   Black     Male        0        0   \n",
       "4      Prof-specialty            Wife   Black   Female        0        0   \n",
       "\n",
       "   workhr         country  \n",
       "0      40   United-States  \n",
       "1      13   United-States  \n",
       "2      40   United-States  \n",
       "3      40   United-States  \n",
       "4      40            Cuba  "
      ]
     },
     "execution_count": 6,
     "metadata": {},
     "output_type": "execute_result"
    }
   ],
   "source": [
    "df[:5]"
   ]
  },
  {
   "cell_type": "markdown",
   "metadata": {},
   "source": [
    "Alternatively, we can slice based on column names, \n",
    "for example `df[\"race\"]`, `df[\"hr\"]`, or even index multiple columns \n",
    "like below."
   ]
  },
  {
   "cell_type": "code",
   "execution_count": 7,
   "metadata": {},
   "outputs": [
    {
     "data": {
      "text/html": [
       "<div>\n",
       "<style scoped>\n",
       "    .dataframe tbody tr th:only-of-type {\n",
       "        vertical-align: middle;\n",
       "    }\n",
       "\n",
       "    .dataframe tbody tr th {\n",
       "        vertical-align: top;\n",
       "    }\n",
       "\n",
       "    .dataframe thead th {\n",
       "        text-align: right;\n",
       "    }\n",
       "</style>\n",
       "<table border=\"1\" class=\"dataframe\">\n",
       "  <thead>\n",
       "    <tr style=\"text-align: right;\">\n",
       "      <th></th>\n",
       "      <th>age</th>\n",
       "      <th>yredu</th>\n",
       "      <th>capgain</th>\n",
       "      <th>caploss</th>\n",
       "      <th>workhr</th>\n",
       "    </tr>\n",
       "  </thead>\n",
       "  <tbody>\n",
       "    <tr>\n",
       "      <th>0</th>\n",
       "      <td>39</td>\n",
       "      <td>13</td>\n",
       "      <td>2174</td>\n",
       "      <td>0</td>\n",
       "      <td>40</td>\n",
       "    </tr>\n",
       "    <tr>\n",
       "      <th>1</th>\n",
       "      <td>50</td>\n",
       "      <td>13</td>\n",
       "      <td>0</td>\n",
       "      <td>0</td>\n",
       "      <td>13</td>\n",
       "    </tr>\n",
       "    <tr>\n",
       "      <th>2</th>\n",
       "      <td>38</td>\n",
       "      <td>9</td>\n",
       "      <td>0</td>\n",
       "      <td>0</td>\n",
       "      <td>40</td>\n",
       "    </tr>\n",
       "  </tbody>\n",
       "</table>\n",
       "</div>"
      ],
      "text/plain": [
       "   age  yredu  capgain  caploss  workhr\n",
       "0   39     13     2174        0      40\n",
       "1   50     13        0        0      13\n",
       "2   38      9        0        0      40"
      ]
     },
     "execution_count": 7,
     "metadata": {},
     "output_type": "execute_result"
    }
   ],
   "source": [
    "subdf = df[[\"age\", \"yredu\", \"capgain\", \"caploss\", \"workhr\"]]\n",
    "subdf[:3] # show the first 3 records"
   ]
  },
  {
   "cell_type": "markdown",
   "metadata": {},
   "source": [
    "Numpy works nicely with pandas, like below:"
   ]
  },
  {
   "cell_type": "code",
   "execution_count": 8,
   "metadata": {},
   "outputs": [
    {
     "data": {
      "text/plain": [
       "2842700"
      ]
     },
     "execution_count": 8,
     "metadata": {},
     "output_type": "execute_result"
    }
   ],
   "source": [
    "np.sum(subdf[\"caploss\"])"
   ]
  },
  {
   "cell_type": "code",
   "execution_count": 9,
   "metadata": {},
   "outputs": [
    {
     "name": "stdout",
     "output_type": "stream",
     "text": [
      "age:\t\tMax: 90\t\tMin: 17\t\tAverage: 38.58164675532078\n",
      "yredu:\t\tMax: 16\t\tMin: 1\t\tAverage: 10.0806793403151\n",
      "capgain:\tMax: 99999\tMin: 0\t\tAverage: 1077.6488437087312\n",
      "caploss:\tMax: 4356\tMin: 0\t\tAverage: 87.303829734959\n",
      "workhr:\t\tMax: 99\t\tMin: 1\t\tAverage: 40.437455852092995\n"
     ]
    }
   ],
   "source": [
    "print(\"age:\\t\\tMax: {}\\t\\tMin: {}\\t\\tAverage: {}\".format(np.amax(subdf[\"age\"]), np.amin(subdf[\"age\"]), np.average(subdf[\"age\"])))\n",
    "print(\"yredu:\\t\\tMax: {}\\t\\tMin: {}\\t\\tAverage: {}\".format(np.amax(subdf[\"yredu\"]), np.amin(subdf[\"yredu\"]), np.average(subdf[\"yredu\"])))\n",
    "print(\"capgain:\\tMax: {}\\tMin: {}\\t\\tAverage: {}\".format(np.amax(subdf[\"capgain\"]), np.amin(subdf[\"capgain\"]), np.average(subdf[\"capgain\"])))\n",
    "print(\"caploss:\\tMax: {}\\tMin: {}\\t\\tAverage: {}\".format(np.amax(subdf[\"caploss\"]), np.amin(subdf[\"caploss\"]), np.average(subdf[\"caploss\"])))\n",
    "print(\"workhr:\\t\\tMax: {}\\t\\tMin: {}\\t\\tAverage: {}\".format(np.amax(subdf[\"workhr\"]), np.amin(subdf[\"workhr\"]), np.average(subdf[\"workhr\"])))"
   ]
  },
  {
   "cell_type": "markdown",
   "metadata": {},
   "source": [
    "### Part (c) Normalizing Continuous Features [1 pt]\n",
    "\n",
    "Normalize each of the features [\"age\", \"yredu\", \"capgain\", \"caploss\", \"workhr\"]\n",
    "so that their values are between 0 and 1. Just like numpy arrays, you can modify\n",
    "data frames. For example, the code \n",
    "\n",
    "`df[\"age\"] = df[\"age\"] + 1` \n",
    "\n",
    "would increase everyone's age by 1."
   ]
  },
  {
   "cell_type": "code",
   "execution_count": 30,
   "metadata": {},
   "outputs": [],
   "source": [
    "df[\"age\"] = (df[\"age\"] - np.amin(df[\"age\"])) / (np.amax(df[\"age\"]) - np.amin(df[\"age\"]))\n",
    "df[\"yredu\"] = (df[\"yredu\"] - np.amin(df[\"yredu\"])) / (np.amax(df[\"yredu\"]) - np.amin(df[\"yredu\"]))\n",
    "df[\"capgain\"] = (df[\"capgain\"] - np.amin(df[\"capgain\"])) / (np.amax(df[\"capgain\"]) - np.amin(df[\"capgain\"]))\n",
    "df[\"caploss\"] = (df[\"caploss\"] - np.amin(df[\"caploss\"])) / (np.amax(df[\"caploss\"]) - np.amin(df[\"caploss\"]))\n",
    "df[\"workhr\"] = (df[\"workhr\"] - np.amin(df[\"workhr\"])) / (np.amax(df[\"workhr\"]) - np.amin(df[\"workhr\"]))"
   ]
  },
  {
   "cell_type": "markdown",
   "metadata": {},
   "source": [
    "### Part (d) Categorical Features [1 pt]\n",
    "\n",
    "What percentage of people in our data set is male? Note that the data labels all have an unfortunate space in the beginning, e.g. \" Male\" instead of \"Male\".\n",
    "\n",
    "What percentage of people in our data set is female?"
   ]
  },
  {
   "cell_type": "code",
   "execution_count": 31,
   "metadata": {},
   "outputs": [
    {
     "name": "stdout",
     "output_type": "stream",
     "text": [
      "Percentage male: 0.6692054912318418\n"
     ]
    }
   ],
   "source": [
    "# hint: you can do something like this in pandas\n",
    "print(\"Percentage male: {}\".format(sum(df[\"sex\"] == \" Male\")/df.shape[0]))"
   ]
  },
  {
   "cell_type": "markdown",
   "metadata": {},
   "source": [
    "### Part (e) Missing Values [1 pt]\n",
    "\n",
    "We will do two things in this part:\n",
    "\n",
    "1. We will restrict ourselves to a subset of the features\n",
    "2. We will remove any records (rows) containing missing values, and store it in a second dataframe.\n",
    "\n",
    "Both of these steps are done for you.\n",
    "\n",
    "Report the number of records with and without missing features of interest."
   ]
  },
  {
   "cell_type": "code",
   "execution_count": 32,
   "metadata": {},
   "outputs": [],
   "source": [
    "contcols = [\"age\", \"yredu\", \"capgain\", \"caploss\", \"workhr\"]\n",
    "catcols = [\"work\", \"marriage\", \"occupation\", \"edu\", \"relationship\", \"sex\"]\n",
    "features = contcols + catcols\n",
    "df = df[features]"
   ]
  },
  {
   "cell_type": "code",
   "execution_count": 33,
   "metadata": {},
   "outputs": [],
   "source": [
    "missing = pd.concat([df[c] == \" ?\" for c in catcols], axis=1).any(axis=1)\n",
    "df_with_missing = df[missing]\n",
    "df_not_missing = df[~missing]"
   ]
  },
  {
   "cell_type": "code",
   "execution_count": 34,
   "metadata": {},
   "outputs": [
    {
     "name": "stdout",
     "output_type": "stream",
     "text": [
      "Records without missing features of interest: 30718\n",
      "Records with missing features of interest: 1843\n"
     ]
    }
   ],
   "source": [
    "print(\"Records without missing features of interest: {}\".format(df_not_missing.shape[0]))\n",
    "print(\"Records with missing features of interest: {}\".format(df_with_missing.shape[0]))"
   ]
  },
  {
   "cell_type": "markdown",
   "metadata": {},
   "source": [
    "### Part (f) One-Hot Encoding [1 pt]\n",
    "\n",
    "What are all the possible values of \"work\" in `df_not_missing`? You may find the Python function `set` useful."
   ]
  },
  {
   "cell_type": "code",
   "execution_count": 35,
   "metadata": {},
   "outputs": [
    {
     "name": "stdout",
     "output_type": "stream",
     "text": [
      "{' Self-emp-inc', ' Local-gov', ' Self-emp-not-inc', ' Federal-gov', ' Private', ' Without-pay', ' State-gov'}\n"
     ]
    }
   ],
   "source": [
    "non_repeated_work_df = set(df_not_missing[\"work\"])\n",
    "print(non_repeated_work_df)"
   ]
  },
  {
   "cell_type": "markdown",
   "metadata": {},
   "source": [
    "As discussed in class and in tutorial, we will be using a one-hot encoding \n",
    "to encode each of the categorical variables.\n",
    "\n",
    "We will use the pandas function `get_dummies`:"
   ]
  },
  {
   "cell_type": "code",
   "execution_count": 36,
   "metadata": {},
   "outputs": [],
   "source": [
    "data = pd.get_dummies(df_not_missing)"
   ]
  },
  {
   "cell_type": "code",
   "execution_count": 37,
   "metadata": {
    "scrolled": true
   },
   "outputs": [
    {
     "data": {
      "text/html": [
       "<div>\n",
       "<style scoped>\n",
       "    .dataframe tbody tr th:only-of-type {\n",
       "        vertical-align: middle;\n",
       "    }\n",
       "\n",
       "    .dataframe tbody tr th {\n",
       "        vertical-align: top;\n",
       "    }\n",
       "\n",
       "    .dataframe thead th {\n",
       "        text-align: right;\n",
       "    }\n",
       "</style>\n",
       "<table border=\"1\" class=\"dataframe\">\n",
       "  <thead>\n",
       "    <tr style=\"text-align: right;\">\n",
       "      <th></th>\n",
       "      <th>age</th>\n",
       "      <th>yredu</th>\n",
       "      <th>capgain</th>\n",
       "      <th>caploss</th>\n",
       "      <th>workhr</th>\n",
       "      <th>work_ Federal-gov</th>\n",
       "      <th>work_ Local-gov</th>\n",
       "      <th>work_ Private</th>\n",
       "      <th>work_ Self-emp-inc</th>\n",
       "      <th>work_ Self-emp-not-inc</th>\n",
       "      <th>...</th>\n",
       "      <th>edu_ Prof-school</th>\n",
       "      <th>edu_ Some-college</th>\n",
       "      <th>relationship_ Husband</th>\n",
       "      <th>relationship_ Not-in-family</th>\n",
       "      <th>relationship_ Other-relative</th>\n",
       "      <th>relationship_ Own-child</th>\n",
       "      <th>relationship_ Unmarried</th>\n",
       "      <th>relationship_ Wife</th>\n",
       "      <th>sex_ Female</th>\n",
       "      <th>sex_ Male</th>\n",
       "    </tr>\n",
       "  </thead>\n",
       "  <tbody>\n",
       "    <tr>\n",
       "      <th>0</th>\n",
       "      <td>0.301370</td>\n",
       "      <td>0.800000</td>\n",
       "      <td>0.02174</td>\n",
       "      <td>0.0</td>\n",
       "      <td>0.397959</td>\n",
       "      <td>0</td>\n",
       "      <td>0</td>\n",
       "      <td>0</td>\n",
       "      <td>0</td>\n",
       "      <td>0</td>\n",
       "      <td>...</td>\n",
       "      <td>0</td>\n",
       "      <td>0</td>\n",
       "      <td>0</td>\n",
       "      <td>1</td>\n",
       "      <td>0</td>\n",
       "      <td>0</td>\n",
       "      <td>0</td>\n",
       "      <td>0</td>\n",
       "      <td>0</td>\n",
       "      <td>1</td>\n",
       "    </tr>\n",
       "    <tr>\n",
       "      <th>1</th>\n",
       "      <td>0.452055</td>\n",
       "      <td>0.800000</td>\n",
       "      <td>0.00000</td>\n",
       "      <td>0.0</td>\n",
       "      <td>0.122449</td>\n",
       "      <td>0</td>\n",
       "      <td>0</td>\n",
       "      <td>0</td>\n",
       "      <td>0</td>\n",
       "      <td>1</td>\n",
       "      <td>...</td>\n",
       "      <td>0</td>\n",
       "      <td>0</td>\n",
       "      <td>1</td>\n",
       "      <td>0</td>\n",
       "      <td>0</td>\n",
       "      <td>0</td>\n",
       "      <td>0</td>\n",
       "      <td>0</td>\n",
       "      <td>0</td>\n",
       "      <td>1</td>\n",
       "    </tr>\n",
       "    <tr>\n",
       "      <th>2</th>\n",
       "      <td>0.287671</td>\n",
       "      <td>0.533333</td>\n",
       "      <td>0.00000</td>\n",
       "      <td>0.0</td>\n",
       "      <td>0.397959</td>\n",
       "      <td>0</td>\n",
       "      <td>0</td>\n",
       "      <td>1</td>\n",
       "      <td>0</td>\n",
       "      <td>0</td>\n",
       "      <td>...</td>\n",
       "      <td>0</td>\n",
       "      <td>0</td>\n",
       "      <td>0</td>\n",
       "      <td>1</td>\n",
       "      <td>0</td>\n",
       "      <td>0</td>\n",
       "      <td>0</td>\n",
       "      <td>0</td>\n",
       "      <td>0</td>\n",
       "      <td>1</td>\n",
       "    </tr>\n",
       "    <tr>\n",
       "      <th>3</th>\n",
       "      <td>0.493151</td>\n",
       "      <td>0.400000</td>\n",
       "      <td>0.00000</td>\n",
       "      <td>0.0</td>\n",
       "      <td>0.397959</td>\n",
       "      <td>0</td>\n",
       "      <td>0</td>\n",
       "      <td>1</td>\n",
       "      <td>0</td>\n",
       "      <td>0</td>\n",
       "      <td>...</td>\n",
       "      <td>0</td>\n",
       "      <td>0</td>\n",
       "      <td>1</td>\n",
       "      <td>0</td>\n",
       "      <td>0</td>\n",
       "      <td>0</td>\n",
       "      <td>0</td>\n",
       "      <td>0</td>\n",
       "      <td>0</td>\n",
       "      <td>1</td>\n",
       "    </tr>\n",
       "    <tr>\n",
       "      <th>4</th>\n",
       "      <td>0.150685</td>\n",
       "      <td>0.800000</td>\n",
       "      <td>0.00000</td>\n",
       "      <td>0.0</td>\n",
       "      <td>0.397959</td>\n",
       "      <td>0</td>\n",
       "      <td>0</td>\n",
       "      <td>1</td>\n",
       "      <td>0</td>\n",
       "      <td>0</td>\n",
       "      <td>...</td>\n",
       "      <td>0</td>\n",
       "      <td>0</td>\n",
       "      <td>0</td>\n",
       "      <td>0</td>\n",
       "      <td>0</td>\n",
       "      <td>0</td>\n",
       "      <td>0</td>\n",
       "      <td>1</td>\n",
       "      <td>1</td>\n",
       "      <td>0</td>\n",
       "    </tr>\n",
       "  </tbody>\n",
       "</table>\n",
       "<p>5 rows × 57 columns</p>\n",
       "</div>"
      ],
      "text/plain": [
       "        age     yredu  capgain  caploss    workhr  work_ Federal-gov  \\\n",
       "0  0.301370  0.800000  0.02174      0.0  0.397959                  0   \n",
       "1  0.452055  0.800000  0.00000      0.0  0.122449                  0   \n",
       "2  0.287671  0.533333  0.00000      0.0  0.397959                  0   \n",
       "3  0.493151  0.400000  0.00000      0.0  0.397959                  0   \n",
       "4  0.150685  0.800000  0.00000      0.0  0.397959                  0   \n",
       "\n",
       "   work_ Local-gov  work_ Private  work_ Self-emp-inc  work_ Self-emp-not-inc  \\\n",
       "0                0              0                   0                       0   \n",
       "1                0              0                   0                       1   \n",
       "2                0              1                   0                       0   \n",
       "3                0              1                   0                       0   \n",
       "4                0              1                   0                       0   \n",
       "\n",
       "   ...  edu_ Prof-school  edu_ Some-college  relationship_ Husband  \\\n",
       "0  ...                 0                  0                      0   \n",
       "1  ...                 0                  0                      1   \n",
       "2  ...                 0                  0                      0   \n",
       "3  ...                 0                  0                      1   \n",
       "4  ...                 0                  0                      0   \n",
       "\n",
       "   relationship_ Not-in-family  relationship_ Other-relative  \\\n",
       "0                            1                             0   \n",
       "1                            0                             0   \n",
       "2                            1                             0   \n",
       "3                            0                             0   \n",
       "4                            0                             0   \n",
       "\n",
       "   relationship_ Own-child  relationship_ Unmarried  relationship_ Wife  \\\n",
       "0                        0                        0                   0   \n",
       "1                        0                        0                   0   \n",
       "2                        0                        0                   0   \n",
       "3                        0                        0                   0   \n",
       "4                        0                        0                   1   \n",
       "\n",
       "   sex_ Female  sex_ Male  \n",
       "0            0          1  \n",
       "1            0          1  \n",
       "2            0          1  \n",
       "3            0          1  \n",
       "4            1          0  \n",
       "\n",
       "[5 rows x 57 columns]"
      ]
     },
     "execution_count": 37,
     "metadata": {},
     "output_type": "execute_result"
    }
   ],
   "source": [
    "data[:5]"
   ]
  },
  {
   "cell_type": "markdown",
   "metadata": {},
   "source": [
    "### Part (g) One-Hot Encoding [1 pt]\n",
    "\n",
    "How many columns are in the dataframe `data`?\n",
    "\n",
    "Briefly explain where that number come from. (You don't need to be detailed here.)"
   ]
  },
  {
   "cell_type": "markdown",
   "metadata": {},
   "source": [
    "##### Answer:\n",
    "There are 57 columns in the dataframe `data`. One column per distinct entry for each field."
   ]
  },
  {
   "cell_type": "markdown",
   "metadata": {},
   "source": [
    "### Part (h) One-Hot Conversion [3 pt]\n",
    "\n",
    "We will convert the pandas data frame into numpy below.\n",
    "However, in doing so, we lose the column information that\n",
    "a panda data frame automatically stores.\n",
    "\n",
    "Complete the function `get_categorical_value` that will return\n",
    "the named value of a feature given a one-hot embedding.\n",
    "You may find the global variables `cat_index` and `cat_values`\n",
    "useful. (Display them and figure out what they are first.)\n",
    "\n",
    "We will use this function on the output of our autoencoder,\n",
    "to interpret our autoencoder outputs. So the input \n",
    "one-hot vectors might not actually be \"one-hot\".\n"
   ]
  },
  {
   "cell_type": "code",
   "execution_count": 38,
   "metadata": {},
   "outputs": [],
   "source": [
    "datanp = data.values.astype(np.float32)"
   ]
  },
  {
   "cell_type": "code",
   "execution_count": 40,
   "metadata": {},
   "outputs": [],
   "source": [
    "cat_index = {}  # Mapping of feature -> start index of feature in a record\n",
    "cat_values = {} # Mapping of feature -> list of categorical values the feature can take\n",
    "\n",
    "# build up the cat_index and cat_values dictionary\n",
    "for i, header in enumerate(data.keys()):\n",
    "    if \"_\" in header: # categorical header\n",
    "        feature, value = header.split()\n",
    "        feature = feature[:-1] # remove the last char; it is always an underscore\n",
    "        if feature not in cat_index:\n",
    "            cat_index[feature] = i\n",
    "            cat_values[feature] = [value]\n",
    "        else:\n",
    "            cat_values[feature].append(value)\n",
    "\n",
    "def get_onehot(record, feature):\n",
    "    \"\"\"\n",
    "    Return the portion of `record` that is the one-hot encoding\n",
    "    of feature. For example, since the feature \"work\" is stored\n",
    "    in the indices [5:12] in each record, calling `get_range(record, \"work\")`\n",
    "    is equivalent to accessing `record[5:12]`.\n",
    "    \n",
    "    Args:\n",
    "        - record: a numpy array representing one record, formatted\n",
    "                  the same way as a row in `data.np`\n",
    "        - feature: a string, should be an element of `catcols`\n",
    "    \"\"\"\n",
    "    start_index = cat_index[feature]\n",
    "    stop_index = cat_index[feature] + len(cat_values[feature])\n",
    "    return record[start_index:stop_index]\n",
    "\n",
    "def get_categorical_value(onehot, feature):\n",
    "    \"\"\"\n",
    "    Return the categorical value name of a feature given\n",
    "    a one-hot vector representing the feature.\n",
    "    \n",
    "    Args:\n",
    "        - onehot: a numpy array one-hot representation of the feature\n",
    "        - feature: a string, should be an element of `catcols`\n",
    "        \n",
    "    Examples:\n",
    "    \n",
    "    >>> get_categorical_value(np.array([0., 0., 0., 0., 0., 1., 0.]), \"work\")\n",
    "    'State-gov'\n",
    "    >>> get_categorical_value(np.array([0.1, 0., 1.1, 0.2, 0., 1., 0.]), \"work\")\n",
    "    'Private'\n",
    "    \"\"\"\n",
    "    # TODO\n",
    "    return cat_values[feature][onehot.argmax()]\n",
    "\n",
    "def get_feature(record, feature):\n",
    "    \"\"\"\n",
    "    Return the categorical feature value of a record\n",
    "    \"\"\"\n",
    "    onehot = get_onehot(record, feature)\n",
    "    return get_categorical_value(onehot, feature)\n",
    "\n",
    "def get_features(record):\n",
    "    \"\"\"\n",
    "    Return a dictionary of all categorical feature values of a record\n",
    "    \"\"\"\n",
    "    return { f: get_feature(record, f) for f in catcols }"
   ]
  },
  {
   "cell_type": "markdown",
   "metadata": {},
   "source": [
    "### Part (i) Train/Test Split [2 pt]\n",
    "\n",
    "Randomly split the data into approximately 70% training, 15% validation and 15% test.\n",
    "\n",
    "Report the number of items in your training, validation, and test set."
   ]
  },
  {
   "cell_type": "code",
   "execution_count": 41,
   "metadata": {},
   "outputs": [],
   "source": [
    "def get_data_loader(trainset, batch_size=1):\n",
    "    np.random.seed(50) # set the numpy seed for consistent split\n",
    "    indicies = np.linspace(0, len(trainset)-1, num=len(trainset), dtype=int)\n",
    "    np.random.shuffle(indicies)\n",
    "    split1 = int(len(trainset)*0.7)\n",
    "    split2 = int(len(trainset)*0.85)\n",
    "\n",
    "    train_indices, val_indices, test_indices = indicies[:split1], indicies[split1:split2], indicies[split2:]\n",
    "\n",
    "    train_sampler = SubsetRandomSampler(train_indices)\n",
    "    train_loader = torch.utils.data.DataLoader(trainset, batch_size=batch_size,\n",
    "                                              num_workers=1, sampler=train_sampler)\n",
    "\n",
    "    val_sampler = SubsetRandomSampler(val_indices)\n",
    "    val_loader = torch.utils.data.DataLoader(trainset, batch_size=batch_size,\n",
    "                                              num_workers=1, sampler=val_sampler)\n",
    "\n",
    "    test_sampler = SubsetRandomSampler(test_indices)\n",
    "    test_loader = torch.utils.data.DataLoader(trainset, batch_size=batch_size,\n",
    "                                              num_workers=1, sampler=test_sampler)\n",
    "    \n",
    "    return train_loader, val_loader, test_loader"
   ]
  },
  {
   "cell_type": "code",
   "execution_count": 42,
   "metadata": {},
   "outputs": [
    {
     "name": "stdout",
     "output_type": "stream",
     "text": [
      "Training set size: 21504\n",
      "Validation set size: 4608\n",
      "Test set size: 4608\n"
     ]
    }
   ],
   "source": [
    "batch_size = 64\n",
    "train_loader, val_loader, test_loader = get_data_loader(datanp, batch_size=batch_size)\n",
    "print(\"Training set size: {}\".format(len(train_loader)*batch_size))\n",
    "print(\"Validation set size: {}\".format(len(val_loader)*batch_size))\n",
    "print(\"Test set size: {}\".format(len(test_loader)*batch_size))"
   ]
  },
  {
   "cell_type": "markdown",
   "metadata": {},
   "source": [
    "## Part 2. Model Setup [4 pt]\n",
    "\n",
    "Design a fully-connected autoencoder by modifying the `encoder` and `decoder`. \n",
    "\n",
    "There will be a sigmoid activation at the decoder, so that\n",
    "the output of the decoder is between 0 and 1. We will not interpret \n",
    "the output of the sigmoid as a probability."
   ]
  },
  {
   "cell_type": "code",
   "execution_count": 43,
   "metadata": {},
   "outputs": [],
   "source": [
    "class AutoEncoder(nn.Module):\n",
    "    def __init__(self):\n",
    "        super(AutoEncoder, self).__init__()\n",
    "        self.encoder = nn.Sequential(\n",
    "            nn.Linear(57, 57),\n",
    "            nn.Linear(57, 19),\n",
    "            nn.Linear(19, 6)\n",
    "        )\n",
    "        self.decoder = nn.Sequential(\n",
    "            nn.Linear(6, 19),\n",
    "            nn.Linear(19, 57),\n",
    "            nn.Linear(57, 57),\n",
    "            nn.Sigmoid() # get to the range (0, 1)\n",
    "        )\n",
    "\n",
    "    def forward(self, x):\n",
    "        x = self.encoder(x)\n",
    "        x = self.decoder(x)\n",
    "        return x"
   ]
  },
  {
   "cell_type": "markdown",
   "metadata": {},
   "source": [
    "## Part 3. Training [18] "
   ]
  },
  {
   "cell_type": "markdown",
   "metadata": {},
   "source": [
    "### Part (a) [6 pt]\n",
    "\n",
    "We will train our autoencoder as follows:\n",
    "\n",
    "- In each iteration, we will hide one of the categorical features using the `zero_out_random_features` function\n",
    "- We will pass the data with one missing feature through the autoencoder, obtaining a reconstruction\n",
    "- We will check how close the reconstruction is compared to the original data (without the missing feature)\n",
    "\n",
    "Complete the code to train the autoencoder, and plot the training and validation loss every few iterations.\n",
    "You may also want to plot training and validation \"accuracy\" every few iterations, as we will define in\n",
    "part (b). You may also want to checkpoint your model every few epochs.\n",
    "\n",
    "Use `nn.MSELoss()` as your loss function. (Side note: you might recognize that this loss function is not\n",
    "ideal for this problem, but we will use it anyways.)"
   ]
  },
  {
   "cell_type": "code",
   "execution_count": 56,
   "metadata": {},
   "outputs": [],
   "source": [
    "def zero_out_feature(records, feature):\n",
    "    \"\"\" Set the feature missing in records, by setting the appropriate\n",
    "    columns of records to 0\n",
    "    \"\"\"\n",
    "    start_index = cat_index[feature]\n",
    "    stop_index = cat_index[feature] + len(cat_values[feature])\n",
    "    records[:, start_index:stop_index] = 0\n",
    "    return records\n",
    "\n",
    "def zero_out_random_feature(records):\n",
    "    \"\"\" Set one random feature missing in records, by setting the \n",
    "    appropriate columns of records to 0\n",
    "    \"\"\"\n",
    "    return zero_out_feature(records, random.choice(catcols))\n",
    "\n",
    "def train(model, train_loader, valid_loader, num_epochs=5, learning_rate=1e-4):\n",
    "    \"\"\" Training loop. You should update this.\"\"\"\n",
    "    model.to(device)\n",
    "    torch.manual_seed(42)\n",
    "    criterion = nn.MSELoss()\n",
    "    optimizer = torch.optim.Adam(model.parameters(), lr=learning_rate)\n",
    "    \n",
    "    # Set up some numpy arrays to store the training/test loss/erruracy\n",
    "    train_acc = np.zeros(num_epochs)\n",
    "    train_loss = np.zeros(num_epochs)\n",
    "    val_acc = np.zeros(num_epochs)\n",
    "    val_loss = np.zeros(num_epochs)\n",
    "    \n",
    "    #set initial text\n",
    "    print(\"Training network...\")\n",
    "    sys.stdout.write('000%')\n",
    "    sys.stdout.flush()\n",
    "    start_time = time.time()\n",
    "    \n",
    "    for epoch in range(num_epochs):\n",
    "        total_train_loss = 0.0\n",
    "        total_val_loss = 0.0\n",
    "        total_epoch = 0\n",
    "        total_val_epoch = 0\n",
    "        \n",
    "        for data in train_loader:\n",
    "            #train data\n",
    "            complete_data = data.clone().detach()\n",
    "            data = zero_out_random_feature(data) # zero out one categorical feature\n",
    "            data = data.to(device)\n",
    "            complete_data = complete_data.to(device)\n",
    "            recon = model(data)\n",
    "            loss = criterion(recon, complete_data)\n",
    "            loss.backward()\n",
    "            optimizer.step()\n",
    "            optimizer.zero_grad()\n",
    "            \n",
    "            # Calculate the statistics of train_loader\n",
    "            total_train_loss += loss.item()\n",
    "            total_epoch += len(data)\n",
    "            \n",
    "        for data in val_loader:\n",
    "            #valuation data\n",
    "            complete_data = data.clone().detach()\n",
    "            data = zero_out_random_feature(data) # zero out one categorical feature\n",
    "            data = data.to(device)\n",
    "            complete_data = complete_data.to(device)\n",
    "            recon = model(data)\n",
    "            loss = criterion(recon, complete_data)\n",
    "            \n",
    "            # Calculate the statistics\n",
    "            total_val_loss += loss.item()\n",
    "            total_val_epoch += len(data)\n",
    "            \n",
    "        #calculate epoch-wise statistics\n",
    "        train_acc[epoch] = get_accuracy(model, train_loader)\n",
    "        train_loss[epoch] = float(total_train_loss) / total_epoch\n",
    "        val_acc[epoch] = get_accuracy(model, val_loader)\n",
    "        val_loss[epoch] = float(total_val_loss) / total_val_epoch\n",
    "        torch.save(model.state_dict(), \"model-lr{}-epoch{}\".format(learning_rate, epoch+1))\n",
    "        \n",
    "        #update progress to user\n",
    "        sys.stdout.write('\\r\\r\\r\\r{:0>3d}%'.format(int((epoch+1)/num_epochs*100)))\n",
    "        sys.stdout.flush()\n",
    "        \n",
    "    print('Finished Training')\n",
    "    end_time = time.time()\n",
    "    elapsed_time = end_time - start_time\n",
    "    print(\"Total time elapsed: {:.2f} seconds\".format(elapsed_time))\n",
    "    \n",
    "    # Write the train/test loss/err into CSV file for plotting later\n",
    "    epochs = np.arange(1, num_epochs + 1)\n",
    "\n",
    "    np.savetxt(\"{}_train_acc.csv\".format(\"model-lr{}-epoch{}\".format(learning_rate, num_epochs)), train_acc)\n",
    "    np.savetxt(\"{}_train_loss.csv\".format(\"model-lr{}-epoch{}\".format(learning_rate, num_epochs)), train_loss)\n",
    "    np.savetxt(\"{}_val_acc.csv\".format(\"model-lr{}-epoch{}\".format(learning_rate, num_epochs)), val_acc)\n",
    "    np.savetxt(\"{}_val_loss.csv\".format(\"model-lr{}-epoch{}\".format(learning_rate, num_epochs)), val_loss)\n",
    "    \n",
    "    plt.title(\"Train vs Validation Accuracy\")\n",
    "    plt.plot(range(1,num_epochs+1), train_acc, label=\"Train\")\n",
    "    plt.plot(range(1,num_epochs+1), val_acc, label=\"Validation\")\n",
    "    plt.xlabel(\"Epoch\")\n",
    "    plt.ylabel(\"Accuracy\")\n",
    "    plt.legend(loc='best')\n",
    "    plt.show()\n",
    "    plt.title(\"Train vs Validation Loss\")\n",
    "    plt.plot(range(1,num_epochs+1), train_loss, label=\"Train\")\n",
    "    plt.plot(range(1,num_epochs+1), val_loss, label=\"Validation\")\n",
    "    plt.xlabel(\"Epoch\")\n",
    "    plt.ylabel(\"Loss\")\n",
    "    plt.legend(loc='best')\n",
    "    plt.show()"
   ]
  },
  {
   "cell_type": "markdown",
   "metadata": {},
   "source": [
    "### Part (b) [3 pt]\n",
    "\n",
    "While plotting training and validation loss is valuable, loss values are less easy to compare\n",
    "than accuracy percentages. The reason is that the scale of the loss value changes depending\n",
    "on your batch size. It would be nice to have a measure of \"accuracy\" in this problem.\n",
    "\n",
    "Since we will only be imputing missing categorical values, we will define an accuracy measure.\n",
    "For each record and for each categorical feature, we determine whether\n",
    "the model can predict the categorical feature given all the other features of the record.\n",
    "\n",
    "A function `get_accuracy` is written for you. It is up to you to figure out how to\n",
    "use the function. You don't need to do anything else in this part. To earn the 4 marks,\n",
    "plot the training and validation accuracy every few iterations/epochs as part of your\n",
    "training curve."
   ]
  },
  {
   "cell_type": "code",
   "execution_count": 59,
   "metadata": {},
   "outputs": [],
   "source": [
    "def get_accuracy(model, data_loader):\n",
    "    \"\"\"Return the \"accuracy\" of the autoencoder model across a data set\n",
    "    \n",
    "    Args:\n",
    "       - model: the autoencoder model, an instance of nn.Module\n",
    "       - data_loader: an instance of torch.utils.data.DataLoader\n",
    "\n",
    "    Example (to illustrate how get_accuracy is intended to be called.\n",
    "             depending on your variable naming this code might not work\n",
    "             out of the box)\n",
    "\n",
    "        >>> model = AutoEncoder()\n",
    "        >>> vdl = torch.utils.data.DataLoader(data_valid, batch_size=256, shuffle=True)\n",
    "        >>> get_accuracy(model, vdl)\n",
    "    \"\"\"\n",
    "    model.cpu()\n",
    "    total = 0\n",
    "    acc = 0\n",
    "    for col in catcols:\n",
    "        for item in data_loader: # minibatches\n",
    "            inp = item.detach().numpy()\n",
    "            out = model(zero_out_feature(item.clone(), col)).detach().numpy()\n",
    "            for i in range(out.shape[0]): # record in minibatch\n",
    "                acc += int(get_feature(out[i], col) == get_feature(inp[i], col))\n",
    "                total += 1\n",
    "    model.to(device)\n",
    "    return acc / total"
   ]
  },
  {
   "cell_type": "markdown",
   "metadata": {},
   "source": [
    "### Part (c) [4 pt]\n",
    "\n",
    "Run the training code, using reasonable settings like batch_size, learning rate, etc.\n",
    "\n",
    "Include your training curve in your pdf output."
   ]
  },
  {
   "cell_type": "code",
   "execution_count": 58,
   "metadata": {},
   "outputs": [
    {
     "name": "stdout",
     "output_type": "stream",
     "text": [
      "Training network...\n",
      "100%Finished Training\n",
      "Total time elapsed: 221.22 seconds\n"
     ]
    },
    {
     "data": {
      "image/png": "[encoded data removed]",
      "text/plain": [
       "<Figure size 432x288 with 1 Axes>"
      ]
     },
     "metadata": {
      "needs_background": "light"
     },
     "output_type": "display_data"
    },
    {
     "data": {
      "image/png": "[encoded data removed]",
      "text/plain": [
       "<Figure size 432x288 with 1 Axes>"
      ]
     },
     "metadata": {
      "needs_background": "light"
     },
     "output_type": "display_data"
    }
   ],
   "source": [
    "train_loader, val_loader, test_loader = get_data_loader(datanp, batch_size=64)\n",
    "ae_model = AutoEncoder()\n",
    "train(ae_model, train_loader, val_loader, learning_rate = 0.0025, num_epochs = 10)#batch_size = 64"
   ]
  },
  {
   "cell_type": "markdown",
   "metadata": {},
   "source": [
    "### Part (d) [5 pt]\n",
    "\n",
    "Tune your hyperparameters, training at least 4 different models.\n",
    "\n",
    "Do not include all your training curves. Instead, explain what hyperparameters\n",
    "you tried, what their effect was, and what your thought process was as you \n",
    "chose the next set of hyperparameters to try.\n",
    "#### 1) Batch Size = 128, Learning Rate = 0.0025, Epochs = 10\n",
    "The idea is to increase the batch size to average out the grad, such that the accuracy will improve slowly but steadily."
   ]
  },
  {
   "cell_type": "code",
   "execution_count": 60,
   "metadata": {},
   "outputs": [
    {
     "name": "stdout",
     "output_type": "stream",
     "text": [
      "Training network...\n",
      "100%Finished Training\n",
      "Total time elapsed: 174.08 seconds\n"
     ]
    },
    {
     "data": {
      "image/png": "[encoded data removed]",
      "text/plain": [
       "<Figure size 432x288 with 1 Axes>"
      ]
     },
     "metadata": {
      "needs_background": "light"
     },
     "output_type": "display_data"
    },
    {
     "data": {
      "image/png": "[encoded data removed]",
      "text/plain": [
       "<Figure size 432x288 with 1 Axes>"
      ]
     },
     "metadata": {
      "needs_background": "light"
     },
     "output_type": "display_data"
    }
   ],
   "source": [
    "train_loader, val_loader, test_loader = get_data_loader(datanp, batch_size=128)\n",
    "ae_model = AutoEncoder()\n",
    "train(ae_model, train_loader, val_loader, learning_rate = 0.0025, num_epochs = 10)#batch_size = 128"
   ]
  },
  {
   "cell_type": "markdown",
   "metadata": {},
   "source": [
    "#### 2) Batch Size = 128, Learning Rate = 0.0025, Epochs = 20\n",
    "The accuracy appears to be further optimizable after reaching local minimum at epoch 9. Thus, epoch numbers are increased to expect a better accuracy after further optimization"
   ]
  },
  {
   "cell_type": "code",
   "execution_count": 65,
   "metadata": {},
   "outputs": [
    {
     "name": "stdout",
     "output_type": "stream",
     "text": [
      "Training network...\n",
      "100%Finished Training\n",
      "Total time elapsed: 338.89 seconds\n"
     ]
    },
    {
     "data": {
      "image/png": "[encoded data removed]",
      "text/plain": [
       "<Figure size 432x288 with 1 Axes>"
      ]
     },
     "metadata": {
      "needs_background": "light"
     },
     "output_type": "display_data"
    },
    {
     "data": {
      "image/png": "[encoded data removed]",
      "text/plain": [
       "<Figure size 432x288 with 1 Axes>"
      ]
     },
     "metadata": {
      "needs_background": "light"
     },
     "output_type": "display_data"
    }
   ],
   "source": [
    "train_loader, val_loader, test_loader = get_data_loader(datanp, batch_size=128)\n",
    "ae_model = AutoEncoder()\n",
    "train(ae_model, train_loader, val_loader, learning_rate = 0.0025, num_epochs = 20)#batch_size = 128"
   ]
  },
  {
   "cell_type": "markdown",
   "metadata": {},
   "source": [
    "#### 3) Batch Size = 512, Learning Rate = 0.0025, Epochs = 20\n",
    "Slope of accuracy in the first few epochs seems to be too steep, therefore batch size is further increased to unleash even greater potential of the neural network"
   ]
  },
  {
   "cell_type": "code",
   "execution_count": 64,
   "metadata": {},
   "outputs": [
    {
     "name": "stdout",
     "output_type": "stream",
     "text": [
      "Training network...\n",
      "100%Finished Training\n",
      "Total time elapsed: 304.53 seconds\n"
     ]
    },
    {
     "data": {
      "image/png": "[encoded data removed]",
      "text/plain": [
       "<Figure size 432x288 with 1 Axes>"
      ]
     },
     "metadata": {
      "needs_background": "light"
     },
     "output_type": "display_data"
    },
    {
     "data": {
      "image/png": "[encoded data removed]",
      "text/plain": [
       "<Figure size 432x288 with 1 Axes>"
      ]
     },
     "metadata": {
      "needs_background": "light"
     },
     "output_type": "display_data"
    }
   ],
   "source": [
    "train_loader, val_loader, test_loader = get_data_loader(datanp, batch_size=512)\n",
    "ae_model = AutoEncoder()\n",
    "train(ae_model, train_loader, val_loader, learning_rate = 0.0025, num_epochs = 20)#batch_size = 512"
   ]
  },
  {
   "cell_type": "markdown",
   "metadata": {},
   "source": [
    "#### 4) Batch Size = 512, Learning Rate = 0.0012, Epochs = 20\n",
    "Considering that the accuracy curve is still bumpy, learning curve is decreased to produce a smooth improvement in accuracy"
   ]
  },
  {
   "cell_type": "code",
   "execution_count": 63,
   "metadata": {},
   "outputs": [
    {
     "name": "stdout",
     "output_type": "stream",
     "text": [
      "Training network...\n",
      "100%Finished Training\n",
      "Total time elapsed: 309.59 seconds\n"
     ]
    },
    {
     "data": {
      "image/png": "[encoded data removed]",
      "text/plain": [
       "<Figure size 432x288 with 1 Axes>"
      ]
     },
     "metadata": {
      "needs_background": "light"
     },
     "output_type": "display_data"
    },
    {
     "data": {
      "image/png": "[encoded data removed]",
      "text/plain": [
       "<Figure size 432x288 with 1 Axes>"
      ]
     },
     "metadata": {
      "needs_background": "light"
     },
     "output_type": "display_data"
    }
   ],
   "source": [
    "train_loader, val_loader, test_loader = get_data_loader(datanp, batch_size=512)\n",
    "ae_model = AutoEncoder()\n",
    "train(ae_model, train_loader, val_loader, learning_rate = 0.001, num_epochs = 20)#batch_size = 512"
   ]
  },
  {
   "cell_type": "markdown",
   "metadata": {},
   "source": [
    "## Part 4. Testing [6 pt]\n",
    "\n",
    "### Part (a) [1 pt]\n",
    "\n",
    "Compute the test accuracy across the test set."
   ]
  },
  {
   "cell_type": "code",
   "execution_count": 67,
   "metadata": {},
   "outputs": [
    {
     "name": "stdout",
     "output_type": "stream",
     "text": [
      "Test  Accuracy: 0.6069878472222222\n"
     ]
    }
   ],
   "source": [
    "#model-lr0.0025-epoch20\n",
    "model = AutoEncoder()\n",
    "model.load_state_dict(torch.load(\"model-lr0.0025-epoch20\"))\n",
    "print(\"Test  Accuracy: {}\".format(get_accuracy(model, test_loader)))"
   ]
  },
  {
   "cell_type": "markdown",
   "metadata": {},
   "source": [
    "### Part (b) [2 pt]\n",
    "\n",
    "If a model guessed the most common answer in the training\n",
    "set, what would its accuracy be?\n",
    "\n",
    "#### Answer:\n",
    "The probability of guessing correct ach answer should be equivalent, thus it should be the same as part a."
   ]
  },
  {
   "cell_type": "markdown",
   "metadata": {},
   "source": [
    "### Part (c) [1 pt]\n",
    "\n",
    "Look at the first item in your test data. \n",
    "Do you think it is reasonable for a human\n",
    "to be able to guess this person's education level\n",
    "based on their other features? Explain."
   ]
  },
  {
   "cell_type": "code",
   "execution_count": 73,
   "metadata": {},
   "outputs": [
    {
     "name": "stdout",
     "output_type": "stream",
     "text": [
      "work: Private\n",
      "marriage: Married-civ-spouse\n",
      "occupation: Prof-specialty\n",
      "edu: Doctorate\n",
      "relationship: Husband\n",
      "sex: Male\n"
     ]
    }
   ],
   "source": [
    "for data in test_loader:\n",
    "    features = get_features(data[0])\n",
    "    for feature in features:\n",
    "        print(\"{}: {}\".format(feature, get_feature(data[0], feature)))\n",
    "    break"
   ]
  },
  {
   "cell_type": "markdown",
   "metadata": {},
   "source": [
    "#### Comment:\n",
    "Yes, it is reasonable for a human to be able to guess this peron's education level because one's occupation often reflects his/her education level too"
   ]
  },
  {
   "cell_type": "markdown",
   "metadata": {},
   "source": [
    "### Part (c) [2 pt]\n",
    "\n",
    "What is your model's guess of this person's education\n",
    "level, given their other features?\n"
   ]
  },
  {
   "cell_type": "code",
   "execution_count": 86,
   "metadata": {},
   "outputs": [
    {
     "name": "stdout",
     "output_type": "stream",
     "text": [
      "edu: Some-college\n"
     ]
    }
   ],
   "source": [
    "for data in test_loader:\n",
    "    model = AutoEncoder()\n",
    "    model.load_state_dict(torch.load(\"model-lr0.0025-epoch20\"))\n",
    "    feature = zero_out_feature(data, \"edu\")\n",
    "    out = model(feature)\n",
    "    print(\"edu: {}\".format(get_feature(torch.from_numpy(out[0].detach().numpy()), \"edu\")))\n",
    "    break"
   ]
  },
  {
   "cell_type": "markdown",
   "metadata": {},
   "source": [
    "#### Comment:\n",
    "Not accurate enough UwU"
   ]
  }
 ],
 "metadata": {
  "kernelspec": {
   "display_name": "Python 3",
   "language": "python",
   "name": "python3"
  },
  "language_info": {
   "codemirror_mode": {
    "name": "ipython",
    "version": 3
   },
   "file_extension": ".py",
   "mimetype": "text/x-python",
   "name": "python",
   "nbconvert_exporter": "python",
   "pygments_lexer": "ipython3",
   "version": "3.7.1"
  }
 },
 "nbformat": 4,
 "nbformat_minor": 2
}
